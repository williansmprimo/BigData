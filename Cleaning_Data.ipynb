{
 "cells": [
  {
   "cell_type": "code",
   "execution_count": 1,
   "id": "f754a61e-7e91-47b4-aca0-51bf61ea53ee",
   "metadata": {},
   "outputs": [],
   "source": [
    "from pyspark.sql import SparkSession"
   ]
  },
  {
   "cell_type": "code",
   "execution_count": 2,
   "id": "f53e572d-872a-4cb7-b9b6-25b7758746e2",
   "metadata": {},
   "outputs": [
    {
     "name": "stderr",
     "output_type": "stream",
     "text": [
      "24/05/03 15:43:15 WARN Utils: Your hostname, willians-desktop resolves to a loopback address: 127.0.1.1; using 192.168.1.73 instead (on interface enp1s0)\n",
      "24/05/03 15:43:15 WARN Utils: Set SPARK_LOCAL_IP if you need to bind to another address\n",
      "Setting default log level to \"WARN\".\n",
      "To adjust logging level use sc.setLogLevel(newLevel). For SparkR, use setLogLevel(newLevel).\n",
      "24/05/03 15:43:22 WARN NativeCodeLoader: Unable to load native-hadoop library for your platform... using builtin-java classes where applicable\n"
     ]
    }
   ],
   "source": [
    "sparkCtx = SparkSession.builder.appName('null').getOrCreate()"
   ]
  },
  {
   "cell_type": "code",
   "execution_count": 3,
   "id": "eca55667-861e-4e98-9f26-c87d44ccd2c6",
   "metadata": {},
   "outputs": [
    {
     "name": "stderr",
     "output_type": "stream",
     "text": [
      "                                                                                \r"
     ]
    }
   ],
   "source": [
    "df = sparkCtx.read.csv('null_base.csv', inferSchema=True, header=True, sep=',')"
   ]
  },
  {
   "cell_type": "code",
   "execution_count": 5,
   "id": "e66400d7-f4c0-4d85-9469-9dfc1695a2e1",
   "metadata": {},
   "outputs": [
    {
     "data": {
      "text/plain": [
       "['id', 'nome', 'nascimento', 'idade', 'cidade']"
      ]
     },
     "execution_count": 5,
     "metadata": {},
     "output_type": "execute_result"
    }
   ],
   "source": [
    "df.columns"
   ]
  },
  {
   "cell_type": "code",
   "execution_count": 18,
   "id": "45a921c6-abb4-40b5-bf22-07bf3437cf6b",
   "metadata": {},
   "outputs": [
    {
     "name": "stdout",
     "output_type": "stream",
     "text": [
      "+-------+------------------+----------+----------+-----------------+--------+\n",
      "|summary|                id|      nome|nascimento|            idade|  cidade|\n",
      "+-------+------------------+----------+----------+-----------------+--------+\n",
      "|  count|                10|         7|         5|                6|       7|\n",
      "|   mean|               4.9|      NULL|      NULL|             45.5|    NULL|\n",
      "| stddev|3.4785054261852175|      NULL|      NULL|28.44468315872054|    NULL|\n",
      "|    min|                 0|Bartolomeu|  01/01/11|               -1|Altamira|\n",
      "|    max|                10|  Willians|  06/09/85|               80|  Uruará|\n",
      "+-------+------------------+----------+----------+-----------------+--------+\n",
      "\n"
     ]
    }
   ],
   "source": [
    "df.describe().show()"
   ]
  },
  {
   "cell_type": "code",
   "execution_count": 19,
   "id": "1cf9614a-2540-488b-872b-bdc099855f38",
   "metadata": {},
   "outputs": [
    {
     "name": "stdout",
     "output_type": "stream",
     "text": [
      "+---+--------+----------+-----+----------+\n",
      "| id|    nome|nascimento|idade|    cidade|\n",
      "+---+--------+----------+-----+----------+\n",
      "|  0|Willians|  06/08/94|   29|  Altamira|\n",
      "|  9|   Pedro|  06/09/85|   50|Uberlandia|\n",
      "+---+--------+----------+-----+----------+\n",
      "\n"
     ]
    }
   ],
   "source": [
    "df.na.drop().show()"
   ]
  },
  {
   "cell_type": "code",
   "execution_count": 20,
   "id": "4efac276-3785-452d-a6c7-0061122ca6de",
   "metadata": {},
   "outputs": [
    {
     "name": "stdout",
     "output_type": "stream",
     "text": [
      "+---+---------+----------+-----+------------+\n",
      "| id|     nome|nascimento|idade|      cidade|\n",
      "+---+---------+----------+-----+------------+\n",
      "|  0| Willians|  06/08/94|   29|    Altamira|\n",
      "|  1|     NULL|  01/01/91|   -1|         Dds|\n",
      "|  4|    Maria|      NULL|   65|      Uruará|\n",
      "|  7|     NULL|  01/01/11|   80|Desconhecida|\n",
      "|  8|        M|      NULL| NULL|           B|\n",
      "|  9|    Pedro|  06/09/85|   50|  Uberlandia|\n",
      "| 10|Marivaldo|      NULL| NULL|Medicilância|\n",
      "+---+---------+----------+-----+------------+\n",
      "\n"
     ]
    }
   ],
   "source": [
    "df.na.drop(subset=['cidade']).show()"
   ]
  },
  {
   "cell_type": "code",
   "execution_count": 34,
   "id": "423fc8d5-2855-40c3-95b5-3ce43dd30eb4",
   "metadata": {},
   "outputs": [
    {
     "name": "stdout",
     "output_type": "stream",
     "text": [
      "+---+--------+----------+-----+----------+\n",
      "| id|    nome|nascimento|idade|    cidade|\n",
      "+---+--------+----------+-----+----------+\n",
      "|  0|Willians|  06/08/94|   29|  Altamira|\n",
      "|  9|   Pedro|  06/09/85|   50|Uberlandia|\n",
      "+---+--------+----------+-----+----------+\n",
      "\n"
     ]
    }
   ],
   "source": [
    "# df.na.drop(how='all').show()\n",
    "df.na.drop(how='any').show()"
   ]
  },
  {
   "cell_type": "code",
   "execution_count": 35,
   "id": "fb95c46e-5868-4a71-82a7-3007368f756c",
   "metadata": {},
   "outputs": [
    {
     "name": "stdout",
     "output_type": "stream",
     "text": [
      "+---+----------+----------+-----+------------+\n",
      "| id|      nome|nascimento|idade|      cidade|\n",
      "+---+----------+----------+-----+------------+\n",
      "|  0|  Willians|  06/08/94|   29|    Altamira|\n",
      "|  1|      NULL|  01/01/91|   -1|         Dds|\n",
      "|  2|Bartolomeu|      NULL|    0|        NULL|\n",
      "|  3|    Estela|  01/08/98|   50|        NULL|\n",
      "|  4|     Maria|      NULL|   65|      Uruará|\n",
      "|  5|      NULL|      NULL|    0|        NULL|\n",
      "|  7|      NULL|  01/01/11|   80|Desconhecida|\n",
      "|  8|         M|      NULL|    0|           B|\n",
      "|  9|     Pedro|  06/09/85|   50|  Uberlandia|\n",
      "| 10| Marivaldo|      NULL|    0|Medicilância|\n",
      "+---+----------+----------+-----+------------+\n",
      "\n"
     ]
    }
   ],
   "source": [
    "df.na.fill(0, subset='idade').show()"
   ]
  },
  {
   "cell_type": "code",
   "execution_count": 36,
   "id": "f1ffca48-697a-4908-a515-44bb463b0c8e",
   "metadata": {},
   "outputs": [
    {
     "name": "stdout",
     "output_type": "stream",
     "text": [
      "+---+----------+----------+-----+------------+\n",
      "| id|      nome|nascimento|idade|      cidade|\n",
      "+---+----------+----------+-----+------------+\n",
      "|  0|  Willians|  06/08/94|   29|    Altamira|\n",
      "|  1|     Vazio|  01/01/91|   -1|         Dds|\n",
      "|  2|Bartolomeu|     Vazio| NULL|       Vazio|\n",
      "|  3|    Estela|  01/08/98|   50|       Vazio|\n",
      "|  4|     Maria|     Vazio|   65|      Uruará|\n",
      "|  5|     Vazio|     Vazio| NULL|       Vazio|\n",
      "|  7|     Vazio|  01/01/11|   80|Desconhecida|\n",
      "|  8|         M|     Vazio| NULL|           B|\n",
      "|  9|     Pedro|  06/09/85|   50|  Uberlandia|\n",
      "| 10| Marivaldo|     Vazio| NULL|Medicilância|\n",
      "+---+----------+----------+-----+------------+\n",
      "\n"
     ]
    }
   ],
   "source": [
    "df.na.fill('Vazio').show()"
   ]
  },
  {
   "cell_type": "code",
   "execution_count": 4,
   "id": "b2b26ace-1730-47f7-b619-e08cd5dd165e",
   "metadata": {},
   "outputs": [],
   "source": [
    "from pyspark.sql.functions import mean"
   ]
  },
  {
   "cell_type": "code",
   "execution_count": 18,
   "id": "eab35b44-dd82-411d-ab14-c301f69a129f",
   "metadata": {},
   "outputs": [
    {
     "name": "stdout",
     "output_type": "stream",
     "text": [
      "+---+----------+----------+-----+------------+\n",
      "| id|      nome|nascimento|idade|      cidade|\n",
      "+---+----------+----------+-----+------------+\n",
      "|  0|  Willians|08/06/1994|   29|    Altamira|\n",
      "|  1|      NULL|01/01/1991|   -1|         Dds|\n",
      "|  2|Bartolomeu|      NULL|   45|        NULL|\n",
      "|  3|    Estela|01/08/1998|   50|        NULL|\n",
      "|  4|     Maria|      NULL|   65|      Uruará|\n",
      "|  5|      NULL|      NULL|   45|        NULL|\n",
      "|  7|      NULL|01/01/1911|   80|Desconhecida|\n",
      "|  8|         M|      NULL|   45|           B|\n",
      "|  9|     Pedro|06/09/1985|   50|  Uberlandia|\n",
      "| 10| Marivaldo|      NULL|   45|Medicilância|\n",
      "+---+----------+----------+-----+------------+\n",
      "\n"
     ]
    }
   ],
   "source": [
    "mean_val = df.select(mean(df['idade'])).collect()[0][0]\n",
    "df.na.fill(mean_val, subset=['idade']).show()"
   ]
  },
  {
   "cell_type": "code",
   "execution_count": 35,
   "id": "76a2c0ec-d188-483a-9e9f-63436f469c64",
   "metadata": {},
   "outputs": [
    {
     "name": "stdout",
     "output_type": "stream",
     "text": [
      "+----+-----------+\n",
      "|Year|Idade (avg)|\n",
      "+----+-----------+\n",
      "|NULL|       41.6|\n",
      "|1999|       65.0|\n",
      "+----+-----------+\n",
      "\n"
     ]
    }
   ],
   "source": [
    "from pyspark.sql.types import DateType\n",
    "from pyspark.sql.functions import to_date, year\n",
    "df_date = df.na.fill('1999-01-01')\n",
    "df_date = df_date.withColumn('Year', year(to_date(df_date['nascimento'])))\n",
    "df_date.groupBy('Year').mean().select(['Year', 'avg(idade)']).withColumnRenamed('avg(idade)', 'Idade (avg)').show()"
   ]
  },
  {
   "cell_type": "code",
   "execution_count": null,
   "id": "41eb7e24-e6fa-4d09-bef8-e7edcb2bd2d8",
   "metadata": {},
   "outputs": [],
   "source": []
  }
 ],
 "metadata": {
  "kernelspec": {
   "display_name": "Python 3 (ipykernel)",
   "language": "python",
   "name": "python3"
  },
  "language_info": {
   "codemirror_mode": {
    "name": "ipython",
    "version": 3
   },
   "file_extension": ".py",
   "mimetype": "text/x-python",
   "name": "python",
   "nbconvert_exporter": "python",
   "pygments_lexer": "ipython3",
   "version": "3.10.12"
  }
 },
 "nbformat": 4,
 "nbformat_minor": 5
}
