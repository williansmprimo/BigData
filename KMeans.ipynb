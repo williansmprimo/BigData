{
 "cells": [
  {
   "cell_type": "code",
   "execution_count": 27,
   "id": "1e2ea909-0b2b-41e5-ace5-f86db9b49692",
   "metadata": {},
   "outputs": [],
   "source": [
    "from pyspark.sql import SparkSession\n",
    "spark = SparkSession.builder.appName('kmeans').getOrCreate()"
   ]
  },
  {
   "cell_type": "code",
   "execution_count": 42,
   "id": "136b6e46-773a-44e3-91b8-7a909571dc3a",
   "metadata": {},
   "outputs": [
    {
     "name": "stderr",
     "output_type": "stream",
     "text": [
      "24/05/13 16:57:57 WARN LibSVMFileFormat: 'numFeatures' option not specified, determining the number of features by going though the input. If you know the number in advance, please specify it via 'numFeatures' option to avoid the extra scan.\n"
     ]
    }
   ],
   "source": [
    "#data = spark.read.csv('customer_segmentation.csv', header=True, inferSchema=True)\n",
    "data = spark.read.format('libsvm').load('sample_libsvm_data.txt')"
   ]
  },
  {
   "cell_type": "code",
   "execution_count": 52,
   "id": "849d8251-75d3-44f9-96c6-4f79c8880c01",
   "metadata": {},
   "outputs": [
    {
     "name": "stdout",
     "output_type": "stream",
     "text": [
      "+-----+--------------------+\n",
      "|label|            features|\n",
      "+-----+--------------------+\n",
      "|  0.0|(692,[127,128,129...|\n",
      "|  1.0|(692,[158,159,160...|\n",
      "|  1.0|(692,[124,125,126...|\n",
      "|  1.0|(692,[152,153,154...|\n",
      "|  1.0|(692,[151,152,153...|\n",
      "|  0.0|(692,[129,130,131...|\n",
      "|  1.0|(692,[158,159,160...|\n",
      "|  1.0|(692,[99,100,101,...|\n",
      "|  0.0|(692,[154,155,156...|\n",
      "|  0.0|(692,[127,128,129...|\n",
      "|  1.0|(692,[154,155,156...|\n",
      "|  0.0|(692,[153,154,155...|\n",
      "|  0.0|(692,[151,152,153...|\n",
      "|  1.0|(692,[129,130,131...|\n",
      "|  0.0|(692,[154,155,156...|\n",
      "|  1.0|(692,[150,151,152...|\n",
      "|  0.0|(692,[124,125,126...|\n",
      "|  0.0|(692,[152,153,154...|\n",
      "|  1.0|(692,[97,98,99,12...|\n",
      "|  1.0|(692,[124,125,126...|\n",
      "+-----+--------------------+\n",
      "only showing top 20 rows\n",
      "\n"
     ]
    }
   ],
   "source": [
    "data.show()"
   ]
  },
  {
   "cell_type": "code",
   "execution_count": 32,
   "id": "bf588fc2-183a-4f69-8f6b-837afc9e8f30",
   "metadata": {},
   "outputs": [],
   "source": [
    "from pyspark.ml.clustering import KMeans"
   ]
  },
  {
   "cell_type": "code",
   "execution_count": 64,
   "id": "2490bd14-978d-431b-853d-1ca5449d1ef4",
   "metadata": {},
   "outputs": [],
   "source": [
    "kmeans = KMeans(featuresCol='features',k=2).setSeed(1)"
   ]
  },
  {
   "cell_type": "code",
   "execution_count": 65,
   "id": "5f183450-c992-420b-bca7-5c8e9adafd7b",
   "metadata": {},
   "outputs": [],
   "source": [
    "model = kmeans.fit(data)\n",
    "centers = model.clusterCenters()"
   ]
  },
  {
   "cell_type": "code",
   "execution_count": 66,
   "id": "7efc99f7-e95f-4347-af66-a48932e735ca",
   "metadata": {},
   "outputs": [
    {
     "data": {
      "text/plain": [
       "(2, 692)"
      ]
     },
     "execution_count": 66,
     "metadata": {},
     "output_type": "execute_result"
    }
   ],
   "source": [
    "len(centers), len(centers[0])"
   ]
  },
  {
   "cell_type": "code",
   "execution_count": 67,
   "id": "156e30b7-b689-45bf-857f-d29514eb3315",
   "metadata": {},
   "outputs": [],
   "source": [
    "transformed_data = model.transform(data)"
   ]
  },
  {
   "cell_type": "code",
   "execution_count": 68,
   "id": "4e5bb074-3a59-4df6-9c62-6a11e1a9fd4d",
   "metadata": {},
   "outputs": [
    {
     "name": "stdout",
     "output_type": "stream",
     "text": [
      "+-----+--------------------+----------+\n",
      "|label|            features|prediction|\n",
      "+-----+--------------------+----------+\n",
      "|  0.0|(692,[127,128,129...|         0|\n",
      "|  1.0|(692,[158,159,160...|         1|\n",
      "|  1.0|(692,[124,125,126...|         1|\n",
      "|  1.0|(692,[152,153,154...|         1|\n",
      "|  1.0|(692,[151,152,153...|         1|\n",
      "|  0.0|(692,[129,130,131...|         0|\n",
      "|  1.0|(692,[158,159,160...|         1|\n",
      "|  1.0|(692,[99,100,101,...|         1|\n",
      "|  0.0|(692,[154,155,156...|         0|\n",
      "|  0.0|(692,[127,128,129...|         0|\n",
      "|  1.0|(692,[154,155,156...|         1|\n",
      "|  0.0|(692,[153,154,155...|         0|\n",
      "|  0.0|(692,[151,152,153...|         0|\n",
      "|  1.0|(692,[129,130,131...|         1|\n",
      "|  0.0|(692,[154,155,156...|         0|\n",
      "|  1.0|(692,[150,151,152...|         1|\n",
      "|  0.0|(692,[124,125,126...|         0|\n",
      "|  0.0|(692,[152,153,154...|         0|\n",
      "|  1.0|(692,[97,98,99,12...|         1|\n",
      "|  1.0|(692,[124,125,126...|         1|\n",
      "+-----+--------------------+----------+\n",
      "only showing top 20 rows\n",
      "\n"
     ]
    }
   ],
   "source": [
    "transformed_data.show()"
   ]
  },
  {
   "cell_type": "code",
   "execution_count": null,
   "id": "57e53b0e-e098-4e69-84a7-578602d19cd0",
   "metadata": {},
   "outputs": [],
   "source": []
  }
 ],
 "metadata": {
  "kernelspec": {
   "display_name": "Python 3 (ipykernel)",
   "language": "python",
   "name": "python3"
  },
  "language_info": {
   "codemirror_mode": {
    "name": "ipython",
    "version": 3
   },
   "file_extension": ".py",
   "mimetype": "text/x-python",
   "name": "python",
   "nbconvert_exporter": "python",
   "pygments_lexer": "ipython3",
   "version": "3.10.12"
  }
 },
 "nbformat": 4,
 "nbformat_minor": 5
}
