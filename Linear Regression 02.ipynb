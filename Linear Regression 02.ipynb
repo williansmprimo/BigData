{
 "cells": [
  {
   "cell_type": "code",
   "execution_count": 1,
   "id": "cd9db152-0bc6-40e8-9a36-8a53bd569636",
   "metadata": {},
   "outputs": [
    {
     "name": "stderr",
     "output_type": "stream",
     "text": [
      "24/05/06 14:57:22 WARN Utils: Your hostname, willians-desktop resolves to a loopback address: 127.0.1.1; using 192.168.1.73 instead (on interface enp1s0)\n",
      "24/05/06 14:57:22 WARN Utils: Set SPARK_LOCAL_IP if you need to bind to another address\n",
      "Setting default log level to \"WARN\".\n",
      "To adjust logging level use sc.setLogLevel(newLevel). For SparkR, use setLogLevel(newLevel).\n",
      "24/05/06 14:57:25 WARN NativeCodeLoader: Unable to load native-hadoop library for your platform... using builtin-java classes where applicable\n"
     ]
    }
   ],
   "source": [
    "from pyspark.sql import SparkSession\n",
    "spark = SparkSession.builder.appName('lr').getOrCreate()"
   ]
  },
  {
   "cell_type": "code",
   "execution_count": 2,
   "id": "696cb0d0-d9cc-40e6-8b59-e88c92fbc922",
   "metadata": {},
   "outputs": [],
   "source": [
    "from pyspark.ml.regression import LinearRegression\n",
    "from pyspark.ml.linalg import Vectors\n",
    "from pyspark.ml.feature import VectorAssembler"
   ]
  },
  {
   "cell_type": "code",
   "execution_count": 23,
   "id": "a0c07dfb-3cf4-466d-9e55-49f2fed7bde5",
   "metadata": {},
   "outputs": [],
   "source": [
    "df = spark.read.csv('Mumbai.csv', inferSchema=True, header=True)"
   ]
  },
  {
   "cell_type": "code",
   "execution_count": 67,
   "id": "34faf35f-2753-40a9-94f6-e65c5a1f5b19",
   "metadata": {},
   "outputs": [],
   "source": [
    "df = df.drop('Location').na.fill(0.0)"
   ]
  },
  {
   "cell_type": "code",
   "execution_count": 68,
   "id": "ec3dec28-fd25-4b36-a33d-01caa9f667b1",
   "metadata": {},
   "outputs": [
    {
     "data": {
      "text/plain": [
       "['Price',\n",
       " 'Area',\n",
       " 'No. of Bedrooms',\n",
       " 'Resale',\n",
       " 'MaintenanceStaff',\n",
       " 'Gymnasium',\n",
       " 'SwimmingPool',\n",
       " 'LandscapedGardens',\n",
       " 'JoggingTrack',\n",
       " 'RainWaterHarvesting',\n",
       " 'IndoorGames',\n",
       " 'ShoppingMall',\n",
       " 'Intercom',\n",
       " 'SportsFacility',\n",
       " 'ATM',\n",
       " 'ClubHouse',\n",
       " 'School',\n",
       " '24X7Security',\n",
       " 'PowerBackup',\n",
       " 'CarParking',\n",
       " 'StaffQuarter',\n",
       " 'Cafeteria',\n",
       " 'MultipurposeRoom',\n",
       " 'Hospital',\n",
       " 'WashingMachine',\n",
       " 'Gasconnection',\n",
       " 'AC',\n",
       " 'Wifi',\n",
       " \"Children'splayarea\",\n",
       " 'LiftAvailable',\n",
       " 'BED',\n",
       " 'VaastuCompliant',\n",
       " 'Microwave',\n",
       " 'GolfCourse',\n",
       " 'TV',\n",
       " 'DiningTable',\n",
       " 'Sofa',\n",
       " 'Wardrobe',\n",
       " 'Refrigerator']"
      ]
     },
     "execution_count": 68,
     "metadata": {},
     "output_type": "execute_result"
    }
   ],
   "source": [
    "df.columns"
   ]
  },
  {
   "cell_type": "code",
   "execution_count": 26,
   "id": "fe4712eb-7138-45ca-8c65-8b8725708844",
   "metadata": {},
   "outputs": [],
   "source": [
    "feature_columns = ['Price',\n",
    " 'Area',\n",
    " 'Resale',\n",
    " 'Gymnasium',\n",
    " 'SwimmingPool',\n",
    " 'LandscapedGardens',\n",
    " 'JoggingTrack',\n",
    " 'IndoorGames',\n",
    " 'ShoppingMall',\n",
    " 'Intercom',\n",
    " 'SportsFacility',\n",
    " 'ATM',\n",
    " 'ClubHouse',\n",
    " 'School',\n",
    " 'CarParking',\n",
    " 'StaffQuarter',\n",
    " 'Cafeteria',\n",
    " 'MultipurposeRoom',\n",
    " 'Hospital',\n",
    " 'WashingMachine',\n",
    " 'Gasconnection',\n",
    " 'AC',\n",
    " \"Children'splayarea\",\n",
    " 'BED',\n",
    " 'VaastuCompliant',\n",
    " 'Microwave',\n",
    " 'GolfCourse',\n",
    " 'TV',\n",
    " 'DiningTable',\n",
    " 'Sofa',\n",
    " 'Wardrobe',\n",
    " 'Refrigerator']"
   ]
  },
  {
   "cell_type": "code",
   "execution_count": 69,
   "id": "0706adba-3822-4036-ab47-1a927252aeb0",
   "metadata": {},
   "outputs": [],
   "source": [
    "assembler = VectorAssembler(inputCols=feature_columns, outputCol='features')"
   ]
  },
  {
   "cell_type": "code",
   "execution_count": 70,
   "id": "f7afcc71-5290-42fa-badc-9bc66f0eb769",
   "metadata": {},
   "outputs": [],
   "source": [
    "output = assembler.transform(df)"
   ]
  },
  {
   "cell_type": "code",
   "execution_count": 71,
   "id": "615956f8-db0f-4817-9315-9faf686ae8bb",
   "metadata": {},
   "outputs": [],
   "source": [
    "data = output.withColumn('label', output['Price']).select(['features', 'label'])"
   ]
  },
  {
   "cell_type": "code",
   "execution_count": 72,
   "id": "0ccd2090-4fb8-4594-9990-9d9766c497b5",
   "metadata": {},
   "outputs": [],
   "source": [
    "train, test = data.randomSplit([0.7, 0.3])"
   ]
  },
  {
   "cell_type": "code",
   "execution_count": 73,
   "id": "24ff0211-d1ff-45ff-b809-1f3c14841e77",
   "metadata": {},
   "outputs": [
    {
     "name": "stdout",
     "output_type": "stream",
     "text": [
      "+-------+-------------------+\n",
      "|summary|              label|\n",
      "+-------+-------------------+\n",
      "|  count|               5379|\n",
      "|   mean|1.493843705056702E7|\n",
      "| stddev|2.012638624875193E7|\n",
      "|    min|            2000000|\n",
      "|    max|          400000000|\n",
      "+-------+-------------------+\n",
      "\n"
     ]
    }
   ],
   "source": [
    "train.describe().show()"
   ]
  },
  {
   "cell_type": "code",
   "execution_count": 74,
   "id": "8daad56e-7bf7-41e0-bc00-4fbe7437878b",
   "metadata": {},
   "outputs": [
    {
     "name": "stderr",
     "output_type": "stream",
     "text": [
      "[Stage 32:>                                                         (0 + 1) / 1]\r"
     ]
    },
    {
     "name": "stdout",
     "output_type": "stream",
     "text": [
      "+-------+--------------------+\n",
      "|summary|               label|\n",
      "+-------+--------------------+\n",
      "|  count|                2340|\n",
      "|   mean|1.5344889722649572E7|\n",
      "| stddev| 2.140225870506035E7|\n",
      "|    min|             2000000|\n",
      "|    max|           420000000|\n",
      "+-------+--------------------+\n",
      "\n"
     ]
    },
    {
     "name": "stderr",
     "output_type": "stream",
     "text": [
      "                                                                                \r"
     ]
    }
   ],
   "source": [
    "test.describe().show()"
   ]
  },
  {
   "cell_type": "code",
   "execution_count": 75,
   "id": "3d14a103-4ec3-483c-a5a0-89ec5c046647",
   "metadata": {},
   "outputs": [],
   "source": [
    "lr = LinearRegression(featuresCol='features', labelCol='label', regParam=0.3)"
   ]
  },
  {
   "cell_type": "code",
   "execution_count": 76,
   "id": "8e8bcbf4-7394-49d9-a6b2-3fca8f534512",
   "metadata": {},
   "outputs": [
    {
     "name": "stderr",
     "output_type": "stream",
     "text": [
      "                                                                                \r"
     ]
    }
   ],
   "source": [
    "lrModel = lr.fit(train)"
   ]
  },
  {
   "cell_type": "code",
   "execution_count": 77,
   "id": "270cdde3-9d05-4062-9a07-2cdc5752d1b1",
   "metadata": {},
   "outputs": [],
   "source": [
    "result = lrModel.evaluate(test)"
   ]
  },
  {
   "cell_type": "code",
   "execution_count": 81,
   "id": "ef0b41fe-0879-4fa2-9c32-bfc2496b241e",
   "metadata": {},
   "outputs": [
    {
     "data": {
      "text/plain": [
       "0.9999999999999998"
      ]
     },
     "execution_count": 81,
     "metadata": {},
     "output_type": "execute_result"
    }
   ],
   "source": [
    "result.r2"
   ]
  },
  {
   "cell_type": "code",
   "execution_count": 82,
   "id": "9ea18095-aac2-44dd-9f07-174639379348",
   "metadata": {},
   "outputs": [],
   "source": [
    "results = lrModel.transform(test)"
   ]
  },
  {
   "cell_type": "code",
   "execution_count": 83,
   "id": "163eac13-cf70-4857-a37b-77244d6430b1",
   "metadata": {},
   "outputs": [
    {
     "name": "stdout",
     "output_type": "stream",
     "text": [
      "+--------------------+--------+--------------------+\n",
      "|            features|   label|          prediction|\n",
      "+--------------------+--------+--------------------+\n",
      "|(32,[0,1],[200000...| 2000000|  2000000.2090302194|\n",
      "|(32,[0,1],[201800...| 2018000|  2018000.2003751616|\n",
      "|(32,[0,1],[210000...| 2100000|   2100000.227523423|\n",
      "|(32,[0,1],[235000...| 2350000|   2350000.252151407|\n",
      "|(32,[0,1],[1.32E7...|13200000|1.3200000221208118E7|\n",
      "|(32,[0,1,2],[3800...| 3800000|   3800000.133666132|\n",
      "|(32,[0,1,2],[4400...| 4400000|    4400000.18361202|\n",
      "|(32,[0,1,2],[6000...| 6000000|   6000000.206148709|\n",
      "|(32,[0,1,2],[7000...| 7000000|   7000000.160194424|\n",
      "|(32,[0,1,2],[7000...| 7000000|   7000000.191721071|\n",
      "|(32,[0,1,2],[8500...| 8500000|   8500000.083752237|\n",
      "|(32,[0,1,2],[9000...| 9000000|   9000000.055304296|\n",
      "|(32,[0,1,2],[9000...| 9000000|   9000000.084976433|\n",
      "|(32,[0,1,2,3,4,5,...| 8000000|   7999999.926400189|\n",
      "|(32,[0,1,2,3,4,5,...| 3800000|   3800000.050484453|\n",
      "|(32,[0,1,2,3,4,5,...|11000000|1.1000000052126996E7|\n",
      "|(32,[0,1,2,3,4,5,...|13500000|1.3499999949505856E7|\n",
      "|(32,[0,1,2,3,4,5,...|15000000|1.5000000222660592E7|\n",
      "|(32,[0,1,2,3,4,5,...|23000000|2.3000000051604223E7|\n",
      "|(32,[0,1,2,3,4,5,...|28000000| 2.800000014544455E7|\n",
      "+--------------------+--------+--------------------+\n",
      "only showing top 20 rows\n",
      "\n"
     ]
    }
   ],
   "source": [
    "results.show()"
   ]
  },
  {
   "cell_type": "code",
   "execution_count": null,
   "id": "98f0c873-7bff-40d3-be65-07f89f23d839",
   "metadata": {},
   "outputs": [],
   "source": []
  }
 ],
 "metadata": {
  "kernelspec": {
   "display_name": "Python 3 (ipykernel)",
   "language": "python",
   "name": "python3"
  },
  "language_info": {
   "codemirror_mode": {
    "name": "ipython",
    "version": 3
   },
   "file_extension": ".py",
   "mimetype": "text/x-python",
   "name": "python",
   "nbconvert_exporter": "python",
   "pygments_lexer": "ipython3",
   "version": "3.10.12"
  }
 },
 "nbformat": 4,
 "nbformat_minor": 5
}
