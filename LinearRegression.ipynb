{
 "cells": [
  {
   "cell_type": "code",
   "execution_count": 9,
   "id": "129e8e67-8c41-4956-9543-504074d3ae51",
   "metadata": {},
   "outputs": [
    {
     "name": "stderr",
     "output_type": "stream",
     "text": [
      "24/05/03 17:30:27 WARN LibSVMFileFormat: 'numFeatures' option not specified, determining the number of features by going though the input. If you know the number in advance, please specify it via 'numFeatures' option to avoid the extra scan.\n"
     ]
    },
    {
     "name": "stdout",
     "output_type": "stream",
     "text": [
      "Coefficients: (692,[272,300,323,350,351,378,379,405,406,407,428,433,434,435,455,456,461,462,483,484,489,490,496,511,512,517,539,540,568],[-7.520689871384e-05,-8.11577314684689e-05,3.8146927718465075e-05,0.0003776490540424333,0.00034051483661944016,0.0005514455157343123,0.0004085386116096918,0.00041974673327494546,0.0008119171358670042,0.000502770837266876,-2.3929260406599642e-05,0.0005745048020902312,0.0009037546426803624,7.818229700243747e-05,-2.178755195291058e-05,-3.4021658217894325e-05,0.0004966517360637645,0.0008190557828370383,-8.017982139522497e-05,-2.7431694037834025e-05,0.00048108322262389945,0.00048408017626778825,-8.92647292000764e-06,-0.0003414881233042727,-8.95059257412124e-05,0.00048645469116892205,-8.478698005185958e-05,-0.00042347832158317646,-7.296535777631108e-05])\n",
      "Intercept: -0.5991460286401453\n",
      "Multinomial coefficients: 2 X 692 CSRMatrix\n",
      "(0,272) 0.0001\n",
      "(0,300) 0.0001\n",
      "(0,350) -0.0002\n",
      "(0,351) -0.0001\n",
      "(0,378) -0.0003\n",
      "(0,379) -0.0002\n",
      "(0,405) -0.0002\n",
      "(0,406) -0.0004\n",
      "(0,407) -0.0002\n",
      "(0,433) -0.0003\n",
      "(0,434) -0.0005\n",
      "(0,435) -0.0001\n",
      "(0,456) 0.0\n",
      "(0,461) -0.0002\n",
      "(0,462) -0.0004\n",
      "(0,483) 0.0001\n",
      "..\n",
      "..\n",
      "Multinomial intercepts: [0.2750587585718048,-0.2750587585718048]\n"
     ]
    }
   ],
   "source": [
    "from pyspark.ml.classification import LogisticRegression\n",
    "from pyspark.sql import SparkSession\n",
    "spark = SparkSession.builder.appName('linear').getOrCreate()\n",
    "# Load training data\n",
    "all_data = spark.read.format(\"libsvm\").load(\"sample_libsvm_data.txt\")\n",
    "trainin, test = all_data.randomSplit([0.7, 0.3])\n",
    "\n",
    "lr = LogisticRegression(maxIter=10, regParam=0.3, elasticNetParam=0.8)\n",
    "\n",
    "# Fit the model\n",
    "lrModel = lr.fit(training)\n",
    "\n",
    "# Print the coefficients and intercept for logistic regression\n",
    "print(\"Coefficients: \" + str(lrModel.coefficients))\n",
    "print(\"Intercept: \" + str(lrModel.intercept))\n",
    "\n",
    "# We can also use the multinomial family for binary classification\n",
    "mlr = LogisticRegression(maxIter=10, regParam=0.3, elasticNetParam=0.8, family=\"multinomial\")\n",
    "\n",
    "# Fit the model\n",
    "mlrModel = mlr.fit(training)\n",
    "\n",
    "# Print the coefficients and intercepts for logistic regression with multinomial family\n",
    "print(\"Multinomial coefficients: \" + str(mlrModel.coefficientMatrix))\n",
    "print(\"Multinomial intercepts: \" + str(mlrModel.interceptVector))"
   ]
  },
  {
   "cell_type": "code",
   "execution_count": 11,
   "id": "f8e80185-2c51-42c6-aae3-c329b6d2c9be",
   "metadata": {},
   "outputs": [
    {
     "name": "stdout",
     "output_type": "stream",
     "text": [
      "+-------+-------------------+\n",
      "|summary|              label|\n",
      "+-------+-------------------+\n",
      "|  count|                100|\n",
      "|   mean|               0.57|\n",
      "| stddev|0.49756985195624287|\n",
      "|    min|                0.0|\n",
      "|    max|                1.0|\n",
      "+-------+-------------------+\n",
      "\n"
     ]
    }
   ],
   "source": [
    "training.describe().show()"
   ]
  },
  {
   "cell_type": "code",
   "execution_count": 16,
   "id": "6a3a0c49-eca8-46cd-891d-fb89ccf28172",
   "metadata": {},
   "outputs": [],
   "source": [
    "result = lrModel.evaluate(test)"
   ]
  },
  {
   "cell_type": "code",
   "execution_count": 19,
   "id": "a255aa71-f998-4cd9-8ade-f876f259c52c",
   "metadata": {},
   "outputs": [],
   "source": [
    "#result.rootMeanSquaredError\n",
    "prd_test = test.select(['features'])"
   ]
  },
  {
   "cell_type": "code",
   "execution_count": 20,
   "id": "e15a8130-c971-4efb-bb82-e84838f68118",
   "metadata": {},
   "outputs": [],
   "source": [
    "pred = lrModel.transform(prd_test)"
   ]
  },
  {
   "cell_type": "code",
   "execution_count": 31,
   "id": "caf752ef-ca4e-4e63-a08c-6ae02a89af68",
   "metadata": {},
   "outputs": [],
   "source": [
    "from pyspark.sql.window import Window\n",
    "from pyspark.sql.functions import monotonically_increasing_id, row_number\n",
    "w = Window.orderBy(monotonically_increasing_id())\n",
    "\n",
    "pred =  pred.withColumn(\"columnindex\", row_number().over(w))\n",
    "n_test =  test.select('label').withColumn(\"columnindex\", row_number().over(w))\n",
    "\n",
    "combined_result = pred.join(n_test, pred.columnindex == n_test.columnindex, 'inner').drop(n_test.columnindex)"
   ]
  },
  {
   "cell_type": "code",
   "execution_count": 32,
   "id": "1e42c8ac-2c5b-43b0-959a-ec6e240d320c",
   "metadata": {},
   "outputs": [
    {
     "name": "stderr",
     "output_type": "stream",
     "text": [
      "24/05/03 17:52:18 WARN WindowExec: No Partition Defined for Window operation! Moving all data to a single partition, this can cause serious performance degradation.\n",
      "24/05/03 17:52:18 WARN WindowExec: No Partition Defined for Window operation! Moving all data to a single partition, this can cause serious performance degradation.\n",
      "24/05/03 17:52:18 WARN WindowExec: No Partition Defined for Window operation! Moving all data to a single partition, this can cause serious performance degradation.\n",
      "24/05/03 17:52:18 WARN WindowExec: No Partition Defined for Window operation! Moving all data to a single partition, this can cause serious performance degradation.\n",
      "24/05/03 17:52:18 WARN WindowExec: No Partition Defined for Window operation! Moving all data to a single partition, this can cause serious performance degradation.\n",
      "24/05/03 17:52:18 WARN WindowExec: No Partition Defined for Window operation! Moving all data to a single partition, this can cause serious performance degradation.\n",
      "24/05/03 17:52:18 WARN WindowExec: No Partition Defined for Window operation! Moving all data to a single partition, this can cause serious performance degradation.\n",
      "24/05/03 17:52:18 WARN WindowExec: No Partition Defined for Window operation! Moving all data to a single partition, this can cause serious performance degradation.\n",
      "24/05/03 17:52:18 WARN WindowExec: No Partition Defined for Window operation! Moving all data to a single partition, this can cause serious performance degradation.\n",
      "24/05/03 17:52:18 WARN WindowExec: No Partition Defined for Window operation! Moving all data to a single partition, this can cause serious performance degradation.\n",
      "24/05/03 17:52:18 WARN WindowExec: No Partition Defined for Window operation! Moving all data to a single partition, this can cause serious performance degradation.\n",
      "24/05/03 17:52:18 WARN WindowExec: No Partition Defined for Window operation! Moving all data to a single partition, this can cause serious performance degradation.\n"
     ]
    },
    {
     "name": "stdout",
     "output_type": "stream",
     "text": [
      "+--------------------+--------------------+--------------------+----------+-----------+-----+\n",
      "|            features|       rawPrediction|         probability|prediction|columnindex|label|\n",
      "+--------------------+--------------------+--------------------+----------+-----------+-----+\n",
      "|(692,[95,96,97,12...|[0.90244229778955...|[0.71145113687931...|       0.0|          1|  0.0|\n",
      "|(692,[98,99,100,1...|[0.91570187077986...|[0.71416552338942...|       0.0|          2|  0.0|\n",
      "|(692,[100,101,102...|[0.59914602864014...|[0.64546090674371...|       0.0|          3|  0.0|\n",
      "|(692,[123,124,125...|[0.86550215722893...|[0.70380892937235...|       0.0|          4|  0.0|\n",
      "|(692,[124,125,126...|[0.87504721062690...|[0.70579483114752...|       0.0|          5|  0.0|\n",
      "|(692,[126,127,128...|[0.88666346545209...|[0.70820114937300...|       0.0|          6|  0.0|\n",
      "|(692,[126,127,128...|[0.90462805375380...|[0.71189963979263...|       0.0|          7|  0.0|\n",
      "|(692,[126,127,128...|[0.77915443052624...|[0.68549784575086...|       0.0|          8|  0.0|\n",
      "|(692,[127,128,129...|[0.92046881984823...|[0.71513762134528...|       0.0|          9|  0.0|\n",
      "|(692,[151,152,153...|[0.94224045998274...|[0.71955199765681...|       0.0|         10|  0.0|\n",
      "|(692,[152,153,154...|[0.73852551517396...|[0.67667334289388...|       0.0|         11|  0.0|\n",
      "|(692,[181,182,183...|[0.65840147017823...|[0.65890120953648...|       0.0|         12|  0.0|\n",
      "|(692,[234,235,237...|[0.74676772368850...|[0.67847399482911...|       0.0|         13|  0.0|\n",
      "|(692,[97,98,99,12...|[-1.1297993557186...|[0.24419813099730...|       1.0|         14|  1.0|\n",
      "|(692,[99,100,101,...|[0.23751454909206...|[0.55910105835945...|       0.0|         15|  1.0|\n",
      "|(692,[100,101,102...|[-1.3630414013315...|[0.20374643950142...|       1.0|         16|  1.0|\n",
      "|(692,[123,124,125...|[-1.2454578200748...|[0.22348740215447...|       1.0|         17|  1.0|\n",
      "|(692,[126,127,128...|[-1.3650161804133...|[0.20342625095740...|       1.0|         18|  1.0|\n",
      "|(692,[127,128,129...|[-1.3376901788852...|[0.20789016442724...|       1.0|         19|  1.0|\n",
      "|(692,[127,128,129...|[-1.3114824259370...|[0.21223888635060...|       1.0|         20|  1.0|\n",
      "+--------------------+--------------------+--------------------+----------+-----------+-----+\n",
      "only showing top 20 rows\n",
      "\n"
     ]
    }
   ],
   "source": [
    "combined_result.show()"
   ]
  },
  {
   "cell_type": "code",
   "execution_count": null,
   "id": "0e0a1f4b-9d0a-4c71-8ee0-16487652c3cb",
   "metadata": {},
   "outputs": [],
   "source": []
  }
 ],
 "metadata": {
  "kernelspec": {
   "display_name": "Python 3 (ipykernel)",
   "language": "python",
   "name": "python3"
  },
  "language_info": {
   "codemirror_mode": {
    "name": "ipython",
    "version": 3
   },
   "file_extension": ".py",
   "mimetype": "text/x-python",
   "name": "python",
   "nbconvert_exporter": "python",
   "pygments_lexer": "ipython3",
   "version": "3.10.12"
  }
 },
 "nbformat": 4,
 "nbformat_minor": 5
}
