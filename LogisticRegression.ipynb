{
 "cells": [
  {
   "cell_type": "code",
   "execution_count": 1,
   "id": "73624f53-984a-4461-a0ef-04c0af318ab6",
   "metadata": {},
   "outputs": [
    {
     "name": "stderr",
     "output_type": "stream",
     "text": [
      "24/05/08 09:26:05 WARN Utils: Your hostname, willians-desktop resolves to a loopback address: 127.0.1.1; using 192.168.1.73 instead (on interface enp1s0)\n",
      "24/05/08 09:26:05 WARN Utils: Set SPARK_LOCAL_IP if you need to bind to another address\n",
      "Setting default log level to \"WARN\".\n",
      "To adjust logging level use sc.setLogLevel(newLevel). For SparkR, use setLogLevel(newLevel).\n",
      "24/05/08 09:26:10 WARN NativeCodeLoader: Unable to load native-hadoop library for your platform... using builtin-java classes where applicable\n"
     ]
    }
   ],
   "source": [
    "from pyspark.sql import SparkSession\n",
    "spark = SparkSession.builder.appName('lgr').getOrCreate()"
   ]
  },
  {
   "cell_type": "code",
   "execution_count": 2,
   "id": "6808d664-7742-45e3-a203-51597815f7dc",
   "metadata": {},
   "outputs": [
    {
     "name": "stderr",
     "output_type": "stream",
     "text": [
      "24/05/08 09:27:49 WARN LibSVMFileFormat: 'numFeatures' option not specified, determining the number of features by going though the input. If you know the number in advance, please specify it via 'numFeatures' option to avoid the extra scan.\n",
      "                                                                                \r"
     ]
    }
   ],
   "source": [
    "df = spark.read.format('libsvm').load('sample_libsvm_data.txt')"
   ]
  },
  {
   "cell_type": "code",
   "execution_count": 3,
   "id": "a83fb919-70c4-4922-b27a-60f65cfd9bc0",
   "metadata": {},
   "outputs": [
    {
     "name": "stdout",
     "output_type": "stream",
     "text": [
      "root\n",
      " |-- label: double (nullable = true)\n",
      " |-- features: vector (nullable = true)\n",
      "\n"
     ]
    }
   ],
   "source": [
    "df.printSchema()"
   ]
  },
  {
   "cell_type": "code",
   "execution_count": 11,
   "id": "6be30115-1a0d-40c8-a1b3-15623b32e42f",
   "metadata": {},
   "outputs": [],
   "source": [
    "train, test = df.randomSplit([0.7, 0.3])"
   ]
  },
  {
   "cell_type": "code",
   "execution_count": 5,
   "id": "b5633d6c-b866-4abe-b899-100bbc508a7e",
   "metadata": {},
   "outputs": [],
   "source": [
    "from pyspark.ml.classification import LogisticRegression"
   ]
  },
  {
   "cell_type": "code",
   "execution_count": 6,
   "id": "dc76659d-062f-4717-a59e-30a12880e7d5",
   "metadata": {},
   "outputs": [],
   "source": [
    "lrg = LogisticRegression()"
   ]
  },
  {
   "cell_type": "code",
   "execution_count": 12,
   "id": "2d604486-8fd0-4e76-9bfc-4bb467787131",
   "metadata": {},
   "outputs": [
    {
     "name": "stderr",
     "output_type": "stream",
     "text": [
      "24/05/08 09:45:54 WARN InstanceBuilder: Failed to load implementation from:dev.ludovic.netlib.blas.VectorBLAS\n"
     ]
    }
   ],
   "source": [
    "trained_lrg = lrg.fit(train)"
   ]
  },
  {
   "cell_type": "code",
   "execution_count": 13,
   "id": "5e38642b-b318-4df2-b8be-88602d693daf",
   "metadata": {},
   "outputs": [],
   "source": [
    "result = trained_lrg.transform(test)"
   ]
  },
  {
   "cell_type": "code",
   "execution_count": 14,
   "id": "3b183240-0d8e-4f83-bd91-0c4bfa2a01aa",
   "metadata": {},
   "outputs": [
    {
     "name": "stdout",
     "output_type": "stream",
     "text": [
      "+-----+--------------------+--------------------+--------------------+----------+\n",
      "|label|            features|       rawPrediction|         probability|prediction|\n",
      "+-----+--------------------+--------------------+--------------------+----------+\n",
      "|  0.0|(692,[95,96,97,12...|[32.3635635244885...|[0.99999999999999...|       0.0|\n",
      "|  0.0|(692,[123,124,125...|[44.8795962422738...|           [1.0,0.0]|       0.0|\n",
      "|  0.0|(692,[124,125,126...|[40.4210228146256...|           [1.0,0.0]|       0.0|\n",
      "|  0.0|(692,[124,125,126...|[23.9053228127264...|[0.99999999995849...|       0.0|\n",
      "|  0.0|(692,[124,125,126...|[29.8144290071048...|[0.99999999999988...|       0.0|\n",
      "|  0.0|(692,[126,127,128...|[37.6402738787961...|           [1.0,0.0]|       0.0|\n",
      "|  0.0|(692,[126,127,128...|[13.1082637283471...|[0.99999797160507...|       0.0|\n",
      "|  0.0|(692,[126,127,128...|[20.6208607729692...|[0.99999999889216...|       0.0|\n",
      "|  0.0|(692,[126,127,128...|[31.0644161621325...|[0.99999999999996...|       0.0|\n",
      "|  0.0|(692,[127,128,129...|[32.5833332929749...|[0.99999999999999...|       0.0|\n",
      "|  0.0|(692,[150,151,152...|[18.8392198976991...|[0.99999999341992...|       0.0|\n",
      "|  0.0|(692,[152,153,154...|[6.52044736572607...|[0.99852915658627...|       0.0|\n",
      "|  0.0|(692,[153,154,155...|[9.31145130516283...|[0.99990962489217...|       0.0|\n",
      "|  0.0|(692,[154,155,156...|[21.8620548926572...|[0.99999999967979...|       0.0|\n",
      "|  0.0|(692,[154,155,156...|[19.0162308890917...|[0.99999999448740...|       0.0|\n",
      "|  0.0|(692,[155,156,180...|[46.3343946871072...|           [1.0,0.0]|       0.0|\n",
      "|  1.0|(692,[97,98,99,12...|[-6.5723838907006...|[0.00139650670203...|       1.0|\n",
      "|  1.0|(692,[124,125,126...|[-22.791456805465...|[1.26414262342666...|       1.0|\n",
      "|  1.0|(692,[124,125,126...|[-23.185622679837...|[8.52338313000463...|       1.0|\n",
      "|  1.0|(692,[127,128,129...|[-22.057123579179...|[2.63458941599980...|       1.0|\n",
      "+-----+--------------------+--------------------+--------------------+----------+\n",
      "only showing top 20 rows\n",
      "\n"
     ]
    }
   ],
   "source": [
    "result.show()"
   ]
  },
  {
   "cell_type": "code",
   "execution_count": 16,
   "id": "268921f0-9a28-40f0-b785-46c061f9ceb3",
   "metadata": {},
   "outputs": [
    {
     "name": "stdout",
     "output_type": "stream",
     "text": [
      "+--------------------+--------------------+--------------------+----------+\n",
      "|            features|       rawPrediction|         probability|prediction|\n",
      "+--------------------+--------------------+--------------------+----------+\n",
      "|(692,[95,96,97,12...|[32.3635635244885...|[0.99999999999999...|       0.0|\n",
      "|(692,[123,124,125...|[44.8795962422738...|           [1.0,0.0]|       0.0|\n",
      "|(692,[124,125,126...|[40.4210228146256...|           [1.0,0.0]|       0.0|\n",
      "|(692,[124,125,126...|[23.9053228127264...|[0.99999999995849...|       0.0|\n",
      "|(692,[124,125,126...|[29.8144290071048...|[0.99999999999988...|       0.0|\n",
      "|(692,[126,127,128...|[37.6402738787961...|           [1.0,0.0]|       0.0|\n",
      "|(692,[126,127,128...|[13.1082637283471...|[0.99999797160507...|       0.0|\n",
      "|(692,[126,127,128...|[20.6208607729692...|[0.99999999889216...|       0.0|\n",
      "|(692,[126,127,128...|[31.0644161621325...|[0.99999999999996...|       0.0|\n",
      "|(692,[127,128,129...|[32.5833332929749...|[0.99999999999999...|       0.0|\n",
      "|(692,[150,151,152...|[18.8392198976991...|[0.99999999341992...|       0.0|\n",
      "|(692,[152,153,154...|[6.52044736572607...|[0.99852915658627...|       0.0|\n",
      "|(692,[153,154,155...|[9.31145130516283...|[0.99990962489217...|       0.0|\n",
      "|(692,[154,155,156...|[21.8620548926572...|[0.99999999967979...|       0.0|\n",
      "|(692,[154,155,156...|[19.0162308890917...|[0.99999999448740...|       0.0|\n",
      "|(692,[155,156,180...|[46.3343946871072...|           [1.0,0.0]|       0.0|\n",
      "|(692,[97,98,99,12...|[-6.5723838907006...|[0.00139650670203...|       1.0|\n",
      "|(692,[124,125,126...|[-22.791456805465...|[1.26414262342666...|       1.0|\n",
      "|(692,[124,125,126...|[-23.185622679837...|[8.52338313000463...|       1.0|\n",
      "|(692,[127,128,129...|[-22.057123579179...|[2.63458941599980...|       1.0|\n",
      "+--------------------+--------------------+--------------------+----------+\n",
      "only showing top 20 rows\n",
      "\n"
     ]
    }
   ],
   "source": [
    "test_2 = test.select(['features'])\n",
    "result = trained_lrg.transform(test_2)\n",
    "result.show()"
   ]
  },
  {
   "cell_type": "code",
   "execution_count": 18,
   "id": "2aa7cc1c-0400-415f-b1d9-dc4f22851841",
   "metadata": {},
   "outputs": [],
   "source": [
    "results = trained_lrg.evaluate(test)"
   ]
  },
  {
   "cell_type": "code",
   "execution_count": 35,
   "id": "9663c593-1161-4f72-84a9-3723b3e3c8d6",
   "metadata": {},
   "outputs": [
    {
     "data": {
      "text/plain": [
       "1.0"
      ]
     },
     "execution_count": 35,
     "metadata": {},
     "output_type": "execute_result"
    }
   ],
   "source": [
    "results.accuracy"
   ]
  },
  {
   "cell_type": "code",
   "execution_count": 28,
   "id": "86872cdf-dd37-49f7-826f-a0da2553a007",
   "metadata": {},
   "outputs": [],
   "source": [
    "from pyspark.ml.evaluation import BinaryClassificationEvaluator, MulticlassClassificationEvaluator"
   ]
  },
  {
   "cell_type": "code",
   "execution_count": 36,
   "id": "4bbf2a1a-7a21-435a-a435-3dcd1aae2a0b",
   "metadata": {},
   "outputs": [],
   "source": [
    "evaluator = BinaryClassificationEvaluator()\n",
    "evaluation = evaluator.evaluate(results.predictions)"
   ]
  },
  {
   "cell_type": "code",
   "execution_count": null,
   "id": "685e27fd-4c8f-475d-aa6b-5783a97ce1b7",
   "metadata": {},
   "outputs": [],
   "source": []
  }
 ],
 "metadata": {
  "kernelspec": {
   "display_name": "Python 3 (ipykernel)",
   "language": "python",
   "name": "python3"
  },
  "language_info": {
   "codemirror_mode": {
    "name": "ipython",
    "version": 3
   },
   "file_extension": ".py",
   "mimetype": "text/x-python",
   "name": "python",
   "nbconvert_exporter": "python",
   "pygments_lexer": "ipython3",
   "version": "3.10.12"
  }
 },
 "nbformat": 4,
 "nbformat_minor": 5
}
